{
 "cells": [
  {
   "cell_type": "code",
   "execution_count": 12,
   "metadata": {},
   "outputs": [],
   "source": [
    "import pandas as pd\n",
    "import numpy as np\n",
    "import seaborn as sns\n",
    "import matplotlib.pyplot as plt\n",
    "\n",
    "from IPython.display import display\n",
    "import ipywidgets as widgets\n",
    "\n",
    "plt.style.use('ggplot')\n",
    "\n",
    "pd.set_option('display.max_columns', 50)\n",
    "%matplotlib inline"
   ]
  },
  {
   "cell_type": "code",
   "execution_count": 13,
   "metadata": {},
   "outputs": [],
   "source": [
    "upload = widgets.FileUpload( accept='.csv', multiple=False )\n",
    "\n",
    "csv_delimiter = \",\"\n",
    "text_encoding = \"utf8\""
   ]
  },
  {
   "cell_type": "markdown",
   "metadata": {},
   "source": [
    "After you selected the file, the upload field should show (1), that means the file is now selected.\n",
    "\n",
    "Click on the next cell to continue..."
   ]
  },
  {
   "cell_type": "code",
   "execution_count": 14,
   "metadata": {},
   "outputs": [
    {
     "data": {
      "application/vnd.jupyter.widget-view+json": {
       "model_id": "990e89b0a83c4c189e74e4107547919f",
       "version_major": 2,
       "version_minor": 0
      },
      "text/plain": [
       "FileUpload(value={}, accept='.csv', description='Upload')"
      ]
     },
     "metadata": {},
     "output_type": "display_data"
    }
   ],
   "source": [
    "upload"
   ]
  },
  {
   "cell_type": "code",
   "execution_count": 15,
   "metadata": {},
   "outputs": [
    {
     "ename": "IndexError",
     "evalue": "list index out of range",
     "output_type": "error",
     "traceback": [
      "\u001b[1;31m---------------------------------------------------------------------------\u001b[0m",
      "\u001b[1;31mIndexError\u001b[0m                                Traceback (most recent call last)",
      "\u001b[1;32m<ipython-input-15-5e0b1ee9b268>\u001b[0m in \u001b[0;36m<module>\u001b[1;34m\u001b[0m\n\u001b[0;32m      1\u001b[0m \u001b[0mfilestream_encoding\u001b[0m \u001b[1;33m=\u001b[0m \u001b[1;34m\"utf8\"\u001b[0m\u001b[1;33m\u001b[0m\u001b[1;33m\u001b[0m\u001b[0m\n\u001b[0;32m      2\u001b[0m \u001b[1;33m\u001b[0m\u001b[0m\n\u001b[1;32m----> 3\u001b[1;33m \u001b[0mt\u001b[0m \u001b[1;33m=\u001b[0m \u001b[0mupload\u001b[0m\u001b[1;33m.\u001b[0m\u001b[0mdata\u001b[0m\u001b[1;33m[\u001b[0m\u001b[1;36m0\u001b[0m\u001b[1;33m]\u001b[0m\u001b[1;33m.\u001b[0m\u001b[0mdecode\u001b[0m\u001b[1;33m(\u001b[0m\u001b[0mencoding\u001b[0m\u001b[1;33m=\u001b[0m\u001b[0mfilestream_encoding\u001b[0m\u001b[1;33m)\u001b[0m\u001b[1;33m\u001b[0m\u001b[1;33m\u001b[0m\u001b[0m\n\u001b[0m\u001b[0;32m      4\u001b[0m \u001b[1;33m\u001b[0m\u001b[0m\n\u001b[0;32m      5\u001b[0m \u001b[1;32mwith\u001b[0m \u001b[0mopen\u001b[0m\u001b[1;33m(\u001b[0m\u001b[1;34m'tmp.csv'\u001b[0m\u001b[1;33m,\u001b[0m \u001b[1;34m'w'\u001b[0m\u001b[1;33m,\u001b[0m \u001b[0mencoding\u001b[0m\u001b[1;33m=\u001b[0m\u001b[0mtext_encoding\u001b[0m\u001b[1;33m)\u001b[0m \u001b[1;32mas\u001b[0m \u001b[0mfh\u001b[0m\u001b[1;33m:\u001b[0m\u001b[1;33m\u001b[0m\u001b[1;33m\u001b[0m\u001b[0m\n",
      "\u001b[1;31mIndexError\u001b[0m: list index out of range"
     ]
    }
   ],
   "source": [
    "filestream_encoding = \"utf8\" \n",
    "\n",
    "t = upload.data[0].decode(encoding=filestream_encoding)\n",
    "\n",
    "with open('tmp.csv', 'w', encoding=text_encoding) as fh:\n",
    "    fh.write(t)"
   ]
  },
  {
   "cell_type": "code",
   "execution_count": 16,
   "metadata": {},
   "outputs": [
    {
     "data": {
      "text/html": [
       "<div>\n",
       "<style scoped>\n",
       "    .dataframe tbody tr th:only-of-type {\n",
       "        vertical-align: middle;\n",
       "    }\n",
       "\n",
       "    .dataframe tbody tr th {\n",
       "        vertical-align: top;\n",
       "    }\n",
       "\n",
       "    .dataframe thead th {\n",
       "        text-align: right;\n",
       "    }\n",
       "</style>\n",
       "<table border=\"1\" class=\"dataframe\">\n",
       "  <thead>\n",
       "    <tr style=\"text-align: right;\">\n",
       "      <th></th>\n",
       "      <th>fid</th>\n",
       "      <th>CaseId</th>\n",
       "      <th>Date</th>\n",
       "      <th>Time</th>\n",
       "      <th>WeekDay</th>\n",
       "      <th>Type</th>\n",
       "      <th>Type2</th>\n",
       "      <th>Act</th>\n",
       "      <th>Section</th>\n",
       "      <th>SectionFull</th>\n",
       "      <th>Loige</th>\n",
       "      <th>MonetaryDamage</th>\n",
       "      <th>Location</th>\n",
       "      <th>CountyName</th>\n",
       "      <th>MunicipalityName</th>\n",
       "      <th>PlaceName</th>\n",
       "      <th>ActType</th>\n",
       "      <th>lon</th>\n",
       "      <th>lat</th>\n",
       "      <th>Precision</th>\n",
       "      <th>month</th>\n",
       "      <th>day_of_week</th>\n",
       "      <th>hour</th>\n",
       "      <th>damage</th>\n",
       "    </tr>\n",
       "  </thead>\n",
       "  <tbody>\n",
       "    <tr>\n",
       "      <th>0</th>\n",
       "      <td>1</td>\n",
       "      <td>ec3331bc-1635-18d5-8326-a9a756483dba</td>\n",
       "      <td>2012/12/31</td>\n",
       "      <td>23:40:00</td>\n",
       "      <td>Monday</td>\n",
       "      <td>VARGUS</td>\n",
       "      <td>MOBIILTELEFONIVARGUS,TASKUVARGUS</td>\n",
       "      <td>Karistusseadustik</td>\n",
       "      <td>§ 199.</td>\n",
       "      <td>§ 199. Vargus</td>\n",
       "      <td>lg. 1.</td>\n",
       "      <td>500-4999</td>\n",
       "      <td>AVALIK_KOHT,TANAV_VALJAK</td>\n",
       "      <td>Harju maakond</td>\n",
       "      <td>Tallinna linn</td>\n",
       "      <td>Kesklinna linnaosa</td>\n",
       "      <td>KT</td>\n",
       "      <td>24.74450</td>\n",
       "      <td>59.43448</td>\n",
       "      <td>500</td>\n",
       "      <td>12</td>\n",
       "      <td>1</td>\n",
       "      <td>23.0</td>\n",
       "      <td>2</td>\n",
       "    </tr>\n",
       "    <tr>\n",
       "      <th>1</th>\n",
       "      <td>2</td>\n",
       "      <td>4295b43a-1636-18d5-8326-a9a756483dba</td>\n",
       "      <td>2012/12/31</td>\n",
       "      <td>23:30:00</td>\n",
       "      <td>Monday</td>\n",
       "      <td>MUU,AVALIKU_KORRA_RIKKUMINE</td>\n",
       "      <td>NaN</td>\n",
       "      <td>Karistusseadustik</td>\n",
       "      <td>§ 262.</td>\n",
       "      <td>§ 262. Avaliku korra rikkumine</td>\n",
       "      <td>NaN</td>\n",
       "      <td>0-499</td>\n",
       "      <td>TREPIKODA_KORIDOR</td>\n",
       "      <td>Harju maakond</td>\n",
       "      <td>Harku vald</td>\n",
       "      <td>Tutermaa küla</td>\n",
       "      <td>VT</td>\n",
       "      <td>24.46548</td>\n",
       "      <td>59.32580</td>\n",
       "      <td>1000</td>\n",
       "      <td>12</td>\n",
       "      <td>1</td>\n",
       "      <td>23.0</td>\n",
       "      <td>1</td>\n",
       "    </tr>\n",
       "    <tr>\n",
       "      <th>2</th>\n",
       "      <td>3</td>\n",
       "      <td>4295b05c-1636-18d5-8326-a9a756483dba</td>\n",
       "      <td>2012/12/31</td>\n",
       "      <td>23:30:00</td>\n",
       "      <td>Monday</td>\n",
       "      <td>AVALIKU_KORRA_RIKKUMINE,MUU</td>\n",
       "      <td>NaN</td>\n",
       "      <td>Karistusseadustik</td>\n",
       "      <td>§ 262.</td>\n",
       "      <td>§ 262. Avaliku korra rikkumine</td>\n",
       "      <td>NaN</td>\n",
       "      <td>NaN</td>\n",
       "      <td>TANAV_VALJAK</td>\n",
       "      <td>Ida-Viru maakond</td>\n",
       "      <td>Alajõe vald</td>\n",
       "      <td>Alajõe küla</td>\n",
       "      <td>VT</td>\n",
       "      <td>27.42173</td>\n",
       "      <td>59.01231</td>\n",
       "      <td>1000</td>\n",
       "      <td>12</td>\n",
       "      <td>1</td>\n",
       "      <td>23.0</td>\n",
       "      <td>4</td>\n",
       "    </tr>\n",
       "    <tr>\n",
       "      <th>3</th>\n",
       "      <td>4</td>\n",
       "      <td>ec333374-1635-18d5-8326-a9a756483dba</td>\n",
       "      <td>2012/12/31</td>\n",
       "      <td>23:00:00</td>\n",
       "      <td>Monday</td>\n",
       "      <td>VARGUS</td>\n",
       "      <td>MOBIILTELEFONIVARGUS</td>\n",
       "      <td>Karistusseadustik</td>\n",
       "      <td>§ 199.</td>\n",
       "      <td>§ 199. Vargus</td>\n",
       "      <td>lg. 1.</td>\n",
       "      <td>0-499</td>\n",
       "      <td>AVALIK_KOHT,OOKLUBI_DISKOTEEK</td>\n",
       "      <td>Harju maakond</td>\n",
       "      <td>Tallinna linn</td>\n",
       "      <td>Kesklinna linnaosa</td>\n",
       "      <td>KT</td>\n",
       "      <td>24.74450</td>\n",
       "      <td>59.43448</td>\n",
       "      <td>500</td>\n",
       "      <td>12</td>\n",
       "      <td>1</td>\n",
       "      <td>23.0</td>\n",
       "      <td>1</td>\n",
       "    </tr>\n",
       "    <tr>\n",
       "      <th>4</th>\n",
       "      <td>5</td>\n",
       "      <td>ec333a2c-1635-18d5-8326-a9a756483dba</td>\n",
       "      <td>2012/12/31</td>\n",
       "      <td>22:00:00</td>\n",
       "      <td>Monday</td>\n",
       "      <td>VARGUS</td>\n",
       "      <td>MOBIILTELEFONIVARGUS</td>\n",
       "      <td>Karistusseadustik</td>\n",
       "      <td>§ 199.</td>\n",
       "      <td>§ 199. Vargus</td>\n",
       "      <td>lg. 1.</td>\n",
       "      <td>0-499</td>\n",
       "      <td>AVALIK_KOHT,OOKLUBI_DISKOTEEK</td>\n",
       "      <td>Harju maakond</td>\n",
       "      <td>Tallinna linn</td>\n",
       "      <td>Kesklinna linnaosa</td>\n",
       "      <td>KT</td>\n",
       "      <td>24.76222</td>\n",
       "      <td>59.43887</td>\n",
       "      <td>500</td>\n",
       "      <td>12</td>\n",
       "      <td>1</td>\n",
       "      <td>22.0</td>\n",
       "      <td>1</td>\n",
       "    </tr>\n",
       "  </tbody>\n",
       "</table>\n",
       "</div>"
      ],
      "text/plain": [
       "   fid                                CaseId        Date      Time WeekDay  \\\n",
       "0    1  ec3331bc-1635-18d5-8326-a9a756483dba  2012/12/31  23:40:00  Monday   \n",
       "1    2  4295b43a-1636-18d5-8326-a9a756483dba  2012/12/31  23:30:00  Monday   \n",
       "2    3  4295b05c-1636-18d5-8326-a9a756483dba  2012/12/31  23:30:00  Monday   \n",
       "3    4  ec333374-1635-18d5-8326-a9a756483dba  2012/12/31  23:00:00  Monday   \n",
       "4    5  ec333a2c-1635-18d5-8326-a9a756483dba  2012/12/31  22:00:00  Monday   \n",
       "\n",
       "                          Type                             Type2  \\\n",
       "0                       VARGUS  MOBIILTELEFONIVARGUS,TASKUVARGUS   \n",
       "1  MUU,AVALIKU_KORRA_RIKKUMINE                               NaN   \n",
       "2  AVALIKU_KORRA_RIKKUMINE,MUU                               NaN   \n",
       "3                       VARGUS              MOBIILTELEFONIVARGUS   \n",
       "4                       VARGUS              MOBIILTELEFONIVARGUS   \n",
       "\n",
       "                 Act Section                     SectionFull   Loige  \\\n",
       "0  Karistusseadustik  § 199.                   § 199. Vargus  lg. 1.   \n",
       "1  Karistusseadustik  § 262.  § 262. Avaliku korra rikkumine     NaN   \n",
       "2  Karistusseadustik  § 262.  § 262. Avaliku korra rikkumine     NaN   \n",
       "3  Karistusseadustik  § 199.                   § 199. Vargus  lg. 1.   \n",
       "4  Karistusseadustik  § 199.                   § 199. Vargus  lg. 1.   \n",
       "\n",
       "  MonetaryDamage                       Location        CountyName  \\\n",
       "0       500-4999       AVALIK_KOHT,TANAV_VALJAK     Harju maakond   \n",
       "1          0-499              TREPIKODA_KORIDOR     Harju maakond   \n",
       "2            NaN                   TANAV_VALJAK  Ida-Viru maakond   \n",
       "3          0-499  AVALIK_KOHT,OOKLUBI_DISKOTEEK     Harju maakond   \n",
       "4          0-499  AVALIK_KOHT,OOKLUBI_DISKOTEEK     Harju maakond   \n",
       "\n",
       "  MunicipalityName           PlaceName ActType       lon       lat  Precision  \\\n",
       "0    Tallinna linn  Kesklinna linnaosa      KT  24.74450  59.43448        500   \n",
       "1       Harku vald       Tutermaa küla      VT  24.46548  59.32580       1000   \n",
       "2      Alajõe vald         Alajõe küla      VT  27.42173  59.01231       1000   \n",
       "3    Tallinna linn  Kesklinna linnaosa      KT  24.74450  59.43448        500   \n",
       "4    Tallinna linn  Kesklinna linnaosa      KT  24.76222  59.43887        500   \n",
       "\n",
       "   month  day_of_week  hour  damage  \n",
       "0     12            1  23.0       2  \n",
       "1     12            1  23.0       1  \n",
       "2     12            1  23.0       4  \n",
       "3     12            1  23.0       1  \n",
       "4     12            1  22.0       1  "
      ]
     },
     "execution_count": 16,
     "metadata": {},
     "output_type": "execute_result"
    }
   ],
   "source": [
    "#df = pd.read_csv(\"crime_numerical.csv\", encoding=text_encoding, sep=csv_delimiter)\n",
    "df = pd.read_csv('tmp.csv', encoding=text_encoding, sep=csv_delimiter)\n",
    "\n",
    "df.head()"
   ]
  },
  {
   "cell_type": "code",
   "execution_count": 17,
   "metadata": {},
   "outputs": [
    {
     "data": {
      "image/png": "[encoded data removed]",
      "text/plain": [
       "<Figure size 864x432 with 1 Axes>"
      ]
     },
     "metadata": {},
     "output_type": "display_data"
    }
   ],
   "source": [
    "#define the figure size\n",
    "fig= plt.figure(figsize=(12,6))\n",
    "fig.patch.set_facecolor('white')\n",
    "\n",
    "#plot the histogram\n",
    "\n",
    "ax = sns.histplot(data=df, x='month', discrete=True, color=\"Blue\", alpha=0.7)\n",
    "\n",
    "#define x-axis bins' label alignment and size\n",
    "plt.xticks(\n",
    "    rotation=0, \n",
    "    horizontalalignment='center',\n",
    "    fontweight='light',\n",
    "    fontsize='x-large',\n",
    ")\n",
    "#define x-axis title and font size\n",
    "plt.xlabel('month', fontsize='xx-large')\n",
    "\n",
    "#define y-axis bins' label alignment and size\n",
    "plt.yticks(\n",
    "    rotation=0, \n",
    "    horizontalalignment='right',\n",
    "    fontweight='light',\n",
    "    fontsize='x-large',\n",
    ")\n",
    "\n",
    "#define y-axis title and font size\n",
    "plt.ylabel('count', fontsize='xx-large')\n",
    "\n",
    "#define plot title and font size\n",
    "plt.title(\"Crime incidents by month\", fontsize='xx-large')\n",
    "\n",
    "#save image\n",
    "plt.savefig('crime_months.png', transparent=False)\n"
   ]
  },
  {
   "cell_type": "code",
   "execution_count": 22,
   "metadata": {},
   "outputs": [
    {
     "data": {
      "image/png": "[encoded data removed]",
      "text/plain": [
       "<Figure size 864x432 with 1 Axes>"
      ]
     },
     "metadata": {
      "needs_background": "light"
     },
     "output_type": "display_data"
    }
   ],
   "source": [
    "#define the figure size\n",
    "plt.figure(figsize=(12,6))\n",
    "fig.patch.set_facecolor('white')\n",
    "\n",
    "#plot the histogram\n",
    "ax = sns.histplot(data=df, x='day_of_week', discrete=True, color='Green', alpha=0.7)\n",
    "\n",
    "#define the x-axis feature names\n",
    "plt.xticks([0, 1, 2, 3, 4, 5, 6], ['Monday', 'Tuesday', 'Wednesday', 'Thursday', 'Friday', 'Saturday', 'Sunday'])\n",
    "\n",
    "#define x-axis bins' label alignment and size\n",
    "plt.xticks(\n",
    "    rotation=0, \n",
    "    horizontalalignment='center',\n",
    "    fontweight='light',\n",
    "    fontsize='x-large',\n",
    ")\n",
    "\n",
    "#define x-axis title and font size\n",
    "plt.xlabel('Day of the week', fontsize='xx-large')\n",
    "\n",
    "#define y-axis bins' label alignment and size\n",
    "plt.yticks(\n",
    "    rotation=0, \n",
    "    horizontalalignment='right',\n",
    "    fontweight='light',\n",
    "    fontsize='x-large',\n",
    ")\n",
    "#define y-axis title and font size\n",
    "plt.ylabel('Count', fontsize='xx-large')\n",
    "\n",
    "#define plot title and font size\n",
    "plt.title(\"Crime incidents by the day of the week\", fontsize='xx-large')\n",
    "#save image\n",
    "plt.savefig('crime_week.png', transparent=False)"
   ]
  },
  {
   "cell_type": "code",
   "execution_count": 25,
   "metadata": {},
   "outputs": [
    {
     "data": {
      "image/png": "[encoded data removed]",
      "text/plain": [
       "<Figure size 864x432 with 1 Axes>"
      ]
     },
     "metadata": {
      "needs_background": "light"
     },
     "output_type": "display_data"
    }
   ],
   "source": [
    "#define the figure size\n",
    "plt.figure(figsize=(12,6))\n",
    "fig.patch.set_facecolor('white')\n",
    "\n",
    "#plot the histogram\n",
    "ax = sns.histplot(data=df, x='hour', discrete=True, color='Red', alpha=0.7)\n",
    "\n",
    "#define x-axis bins' label alignment and size\n",
    "plt.xticks(\n",
    "    rotation=0, \n",
    "    horizontalalignment='center',\n",
    "    fontweight='light',\n",
    "    fontsize='x-large',\n",
    ")\n",
    "\n",
    "#define x-axis title and font size\n",
    "plt.xlabel('Hour of the day', fontsize='xx-large')\n",
    "\n",
    "#define y-axis bins' label alignment and size\n",
    "plt.yticks(\n",
    "    rotation=0, \n",
    "    horizontalalignment='right',\n",
    "    fontweight='light',\n",
    "    fontsize='x-large',\n",
    ")\n",
    "#define y-axis title and font size\n",
    "plt.ylabel('Count', fontsize='xx-large')\n",
    "\n",
    "#define plot title and font size\n",
    "plt.title(\"Crime incidents by hour of the day\", fontsize='xx-large')\n",
    "#save image\n",
    "plt.savefig('crime_hour.png', transparent=False)"
   ]
  },
  {
   "cell_type": "code",
   "execution_count": 20,
   "metadata": {},
   "outputs": [],
   "source": [
    "# df['MonetaryDamage_prep']\n",
    "# df.dropna(subset=[\"MonetaryDamage\"]).unique() \n",
    "#MonetaryDamage_cat = pd.Categorical(df[\"MonetaryDamage\"])\n"
   ]
  },
  {
   "cell_type": "code",
   "execution_count": 24,
   "metadata": {},
   "outputs": [
    {
     "data": {
      "image/png": "[encoded data removed]",
      "text/plain": [
       "<Figure size 864x432 with 1 Axes>"
      ]
     },
     "metadata": {
      "needs_background": "light"
     },
     "output_type": "display_data"
    }
   ],
   "source": [
    "#define the figure size\n",
    "plt.figure(figsize=(12,6))\n",
    "fig.patch.set_facecolor('white')\n",
    "\n",
    "#plot the histogram\n",
    "ax = sns.histplot(data=df, x='damage', discrete=True, color='Yellow', alpha=0.7)\n",
    "\n",
    "\n",
    "#define the x-axis feature names\n",
    "plt.xticks([1, 2, 3, 4], ['<500', '500-4999', '5000-49999', '>50000'])\n",
    "\n",
    "#define x-axis bins' label alignment and size\n",
    "plt.xticks(\n",
    "    rotation=0, \n",
    "    horizontalalignment='center',\n",
    "    fontweight='light',\n",
    "    fontsize='x-large',\n",
    ")\n",
    "\n",
    "#define x-axis title and font size\n",
    "plt.xlabel('Monetary damage (eur)', fontsize='xx-large')\n",
    "\n",
    "#define y-axis bins' label alignment and size\n",
    "plt.yticks(\n",
    "    rotation=0, \n",
    "    horizontalalignment='right',\n",
    "    fontweight='light',\n",
    "    fontsize='x-large',\n",
    ")\n",
    "#define y-axis title and font size\n",
    "plt.ylabel('Count', fontsize='xx-large')\n",
    "\n",
    "#define plot title and font size\n",
    "plt.title(\"Crime incidents by monetary damage\", fontsize='xx-large')\n",
    "#save image\n",
    "plt.savefig('crime_damage.png', transparent=False)"
   ]
  },
  {
   "cell_type": "markdown",
   "metadata": {},
   "source": [
    "[download image here](crime_hist1.png)\n",
    "\n",
    "Alternatively, just copy the image directly from the browser with mouse click."
   ]
  },
  {
   "cell_type": "code",
   "execution_count": null,
   "metadata": {},
   "outputs": [],
   "source": []
  }
 ],
 "metadata": {
  "kernelspec": {
   "display_name": "Python 3",
   "language": "python",
   "name": "python3"
  },
  "language_info": {
   "codemirror_mode": {
    "name": "ipython",
    "version": 3
   },
   "file_extension": ".py",
   "mimetype": "text/x-python",
   "name": "python",
   "nbconvert_exporter": "python",
   "pygments_lexer": "ipython3",
   "version": "3.7.10"
  }
 },
 "nbformat": 4,
 "nbformat_minor": 4
}
